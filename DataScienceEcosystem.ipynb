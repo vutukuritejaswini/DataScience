{
 "cells": [
  {
   "cell_type": "markdown",
   "id": "f54d5017",
   "metadata": {},
   "source": [
    "# Data Science Tools and Ecosystem"
   ]
  },
  {
   "cell_type": "markdown",
   "id": "4395ab89",
   "metadata": {},
   "source": [
    "In this notebook, Data Science Tools and Ecosystem are summarized."
   ]
  },
  {
   "cell_type": "markdown",
   "id": "a30fda86",
   "metadata": {},
   "source": [
    "# Some of the popular languages that Data Scientists use are:\n",
    "\n",
    "1.Python\n",
    "\n",
    "2.R\n",
    "\n",
    "3.SQL (Structured Query Language)\n",
    "\n",
    "4.Julia\n",
    "\n",
    "5.SAS (Statistical Analysis System)\n",
    "\n",
    "6.Scala\n",
    "\n",
    "7.MATLAB\n",
    "\n",
    "8.Java (for specific data science libraries and applications)"
   ]
  },
  {
   "cell_type": "markdown",
   "id": "221c778e",
   "metadata": {},
   "source": [
    "# Some of the commonly used libraries used by Data Scientists include:\n",
    "  \n",
    "1.Pandas\n",
    "\n",
    "2.Numpy\n",
    "\n",
    "3.Matplotlib\n",
    "\n",
    "4.Seaborn\n",
    "\n",
    "5.Scikit-learn\n",
    "\n",
    "6.keras\n",
    "\n",
    "7.Tensorflow\n",
    "\n",
    "8.pyTorch\n",
    "\n"
   ]
  },
  {
   "cell_type": "markdown",
   "id": "589a6ab0",
   "metadata": {},
   "source": [
    "# Data Science tools:\n",
    "\n",
    "- Jupyter Notebook: An interactive environment that allows you to create and share documents containing live code, equations, visualizations, and explanatory text.\n",
    "\n",
    "- RStudio: An integrated development environment (IDE) for the R programming language, specifically designed for data analysis and visualization.\n",
    "\n",
    "- Tableau: A powerful data visualization tool that allows you to create interactive and shareable dashboards and reports.\n",
    "\n",
    "- Apache Spark: An open-source, distributed computing system that provides tools for big data processing, machine learning, and graph computation.\n",
    "\n",
    "- IBM Watson Studio: An integrated platform for data science and machine learning that offers collaboration, data exploration, and model building tools.\n",
    "\n",
    "- Git and GitHub: Version control systems like Git along with platforms like GitHub or GitLab are essential for collaborative coding and project management in data science."
   ]
  },
  {
   "cell_type": "markdown",
   "id": "2162ccc1",
   "metadata": {},
   "source": [
    "# Below are a few examples of evaluating arithmetic expressions in Python"
   ]
  },
  {
   "cell_type": "code",
   "execution_count": 11,
   "id": "817f09f1",
   "metadata": {},
   "outputs": [
    {
     "data": {
      "text/plain": [
       "17"
      ]
     },
     "execution_count": 11,
     "metadata": {},
     "output_type": "execute_result"
    }
   ],
   "source": [
    "#This a simple arithmetic expression to mutiply then add integers\n",
    "(3*4)+5\n"
   ]
  },
  {
   "cell_type": "code",
   "execution_count": 12,
   "id": "42c69c32",
   "metadata": {},
   "outputs": [
    {
     "data": {
      "text/plain": [
       "3.3333333333333335"
      ]
     },
     "execution_count": 12,
     "metadata": {},
     "output_type": "execute_result"
    }
   ],
   "source": [
    "#This will convert 200 minutes to hours by diving by 60\n",
    "200/60"
   ]
  },
  {
   "cell_type": "markdown",
   "id": "a0cb39ca",
   "metadata": {},
   "source": [
    "# Objectives in data science:\n",
    "\n",
    "- popular languages that are used in data scientsts\n",
    "- libraries used by data scientists\n",
    "- Open source tools used in data science\n",
    "- Few examples of arithmatic expressions\n",
    "- code to multiply and add two numbers"
   ]
  },
  {
   "cell_type": "markdown",
   "id": "fbecf2b3",
   "metadata": {},
   "source": [
    "# Author\n",
    "Vutukuri Tejaswini"
   ]
  },
  {
   "cell_type": "code",
   "execution_count": null,
   "id": "c69d989a",
   "metadata": {},
   "outputs": [],
   "source": []
  }
 ],
 "metadata": {
  "kernelspec": {
   "display_name": "Python 3 (ipykernel)",
   "language": "python",
   "name": "python3"
  },
  "language_info": {
   "codemirror_mode": {
    "name": "ipython",
    "version": 3
   },
   "file_extension": ".py",
   "mimetype": "text/x-python",
   "name": "python",
   "nbconvert_exporter": "python",
   "pygments_lexer": "ipython3",
   "version": "3.9.13"
  }
 },
 "nbformat": 4,
 "nbformat_minor": 5
}
